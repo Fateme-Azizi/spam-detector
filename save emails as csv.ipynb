import pandas as pd
import os
data = []
files = os.listdir('G:/dataset/enron1/ham/')
for file in files:
    with open('G:/dataset/enron1/ham/' + file, "r") as myfile:
        data.append([myfile.read(),0 ])
files = os.listdir('G:/dataset/enron1/spam/')
for file in files:
    with open('G:/dataset/enron1/spam/' + file, "r") as myfile:
        data.append([myfile.read(),1])
df = pd.DataFrame(data, columns=["email", "label"])
df.to_csv("dataset.csv")
df.to_pickle('email data frame')
