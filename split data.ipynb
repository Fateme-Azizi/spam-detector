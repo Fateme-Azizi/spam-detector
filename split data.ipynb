from sklearn.model_selection import train_test_split
import pandas as pd
df=pd.read_pickle("email data frame")
train, test= train_test_split(df, test_size=0.2)
train,dev=train_test_split(train,test_size=0.25)
train.to_csv("trainset.csv")
test.to_csv("testset.csv")
dev.to_csv("devset.csv")
